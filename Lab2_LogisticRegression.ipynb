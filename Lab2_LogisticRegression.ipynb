{
  "nbformat": 4,
  "nbformat_minor": 0,
  "metadata": {
    "anaconda-cloud": {},
    "kernelspec": {
      "display_name": "Python 3",
      "language": "python",
      "name": "python3"
    },
    "language_info": {
      "codemirror_mode": {
        "name": "ipython",
        "version": 3
      },
      "file_extension": ".py",
      "mimetype": "text/x-python",
      "name": "python",
      "nbconvert_exporter": "python",
      "pygments_lexer": "ipython3",
      "version": "3.6.1"
    },
    "colab": {
      "name": "Lab2_LogisticRegression.ipynb",
      "provenance": [],
      "collapsed_sections": [],
      "include_colab_link": true
    }
  },
  "cells": [
    {
      "cell_type": "markdown",
      "metadata": {
        "id": "view-in-github",
        "colab_type": "text"
      },
      "source": [
        "<a href=\"https://colab.research.google.com/github/skywalker0803r/Microsoft-DAT236x-Deep-Learning-Explained/blob/master/Lab2_LogisticRegression.ipynb\" target=\"_parent\"><img src=\"https://colab.research.google.com/assets/colab-badge.svg\" alt=\"Open In Colab\"/></a>"
      ]
    },
    {
      "cell_type": "code",
      "metadata": {
        "id": "vpKeIQNcs6zi",
        "colab_type": "code",
        "colab": {}
      },
      "source": [
        "from IPython.display import Image"
      ],
      "execution_count": 0,
      "outputs": []
    },
    {
      "cell_type": "code",
      "metadata": {
        "id": "nS_H5TpPs-Z2",
        "colab_type": "code",
        "outputId": "7d67932e-bd30-455a-8ab3-6cc481c13fdc",
        "colab": {
          "base_uri": "https://localhost:8080/",
          "height": 122
        }
      },
      "source": [
        "from google.colab import drive\n",
        "drive.mount('/content/drive')"
      ],
      "execution_count": 2,
      "outputs": [
        {
          "output_type": "stream",
          "text": [
            "Go to this URL in a browser: https://accounts.google.com/o/oauth2/auth?client_id=947318989803-6bn6qk8qdgf4n4g3pfee6491hc0brc4i.apps.googleusercontent.com&redirect_uri=urn%3aietf%3awg%3aoauth%3a2.0%3aoob&response_type=code&scope=email%20https%3a%2f%2fwww.googleapis.com%2fauth%2fdocs.test%20https%3a%2f%2fwww.googleapis.com%2fauth%2fdrive%20https%3a%2f%2fwww.googleapis.com%2fauth%2fdrive.photos.readonly%20https%3a%2f%2fwww.googleapis.com%2fauth%2fpeopleapi.readonly\n",
            "\n",
            "Enter your authorization code:\n",
            "··········\n",
            "Mounted at /content/drive\n"
          ],
          "name": "stdout"
        }
      ]
    },
    {
      "cell_type": "markdown",
      "metadata": {
        "nbpresent": {
          "id": "29b9bd1d-766f-4422-ad96-de0accc1ce58"
        },
        "id": "2nMk5N0ls6zm",
        "colab_type": "text"
      },
      "source": [
        "# Lab 2 - Logistic Regression (LR) with MNIST\n",
        "\n",
        "This lab corresponds to Module 2 of the \"Deep Learning Explained\" course. We assume that you have successfully completed Lab 1 (Downloading the MNIST data).\n",
        "\n",
        "In this lab we will build and train a Multiclass Logistic Regression model using the MNIST data. \n",
        "\n",
        "## Introduction\n",
        "\n",
        "**Problem**:\n",
        "Optical Character Recognition (OCR) is a hot research area and there is a great demand for automation. The MNIST data is comprised of hand-written digits with little background noise making it a nice dataset to create, experiment and learn deep learning models with reasonably small comptuing resources."
      ]
    },
    {
      "cell_type": "code",
      "metadata": {
        "id": "X1Tlhr0os6zn",
        "colab_type": "code",
        "outputId": "91a34461-7f6b-4103-f4fc-df393cc73fe2",
        "colab": {
          "base_uri": "https://localhost:8080/",
          "height": 221
        }
      },
      "source": [
        "# Figure 1\n",
        "Image(url= \"http://3.bp.blogspot.com/_UpN7DfJA0j4/TJtUBWPk0SI/AAAAAAAAABY/oWPMtmqJn3k/s1600/mnist_originals.png\", width=200, height=200)"
      ],
      "execution_count": 3,
      "outputs": [
        {
          "output_type": "execute_result",
          "data": {
            "text/html": [
              "<img src=\"http://3.bp.blogspot.com/_UpN7DfJA0j4/TJtUBWPk0SI/AAAAAAAAABY/oWPMtmqJn3k/s1600/mnist_originals.png\" width=\"200\" height=\"200\"/>"
            ],
            "text/plain": [
              "<IPython.core.display.Image object>"
            ]
          },
          "metadata": {
            "tags": []
          },
          "execution_count": 3
        }
      ]
    },
    {
      "cell_type": "markdown",
      "metadata": {
        "id": "VAXeyi5ts6zt",
        "colab_type": "text"
      },
      "source": [
        "**Goal**:\n",
        "Our goal is to train a classifier that will identify the digits in the MNIST dataset. \n",
        "\n",
        "**Approach**:\n",
        "There are 4 stages in this lab: \n",
        "- **Data reading**: We will use the CNTK Text reader.  \n",
        "- **Data preprocessing**: Covered in part A (suggested extension section). \n",
        "- **Model creation**: Multiclass Logistic Regression model.\n",
        "- **Train-Test-Predict**: This is the same workflow introduced in the lectures"
      ]
    },
    {
      "cell_type": "markdown",
      "metadata": {
        "id": "LSae3w2Ys6zu",
        "colab_type": "text"
      },
      "source": [
        "## Logistic Regression\n",
        "[Logistic Regression](https://en.wikipedia.org/wiki/Logistic_regression) (LR) is a fundamental machine learning technique that uses a linear weighted combination of features and generates probability-based predictions of different classes.  \n",
        "\n",
        "There are two basic forms of LR: **Binary LR** (with a single output that can predict two classes) and **multiclass LR** (with multiple outputs, each of which is used to predict a single class).  \n",
        "\n",
        "![LR-forms](http://www.cntk.ai/jup/cntk103b_TwoFormsOfLR-v3.png)"
      ]
    },
    {
      "cell_type": "markdown",
      "metadata": {
        "id": "oO9XtX4Os6zv",
        "colab_type": "text"
      },
      "source": [
        "In **Binary Logistic Regression** (see top of figure above), the input features are each scaled by an associated weight and summed together.  The sum is passed through a squashing (aka activation) function and generates an output in [0,1].  This output value is then compared with a threshold (such as 0.5) to produce a binary label (0 or 1), predicting 1 of 2 classes.  This technique supports only classification problems with two output classes, hence the name binary LR.  In the binary LR example shown above, the [sigmoid][] function is used as the squashing function.\n",
        "\n",
        "[sigmoid]: https://en.wikipedia.org/wiki/Sigmoid_function"
      ]
    },
    {
      "cell_type": "markdown",
      "metadata": {
        "id": "PGBPgIvws6zw",
        "colab_type": "text"
      },
      "source": [
        "In **Multiclass Linear Regression** (see bottom of figure above), 2 or more output nodes are used, one for each output class to be predicted.  Each summation node uses its own set of weights to scale the input features and sum them together. Instead of passing the summed output of the weighted input features through a sigmoid squashing function, the output is often passed through a [softmax][] function (which in addition to squashing, like the sigmoid, the softmax normalizes each nodes' output value using the sum of all unnormalized nodes). (Details in the context of MNIST image to follow)\n",
        "\n",
        "We will use multiclass LR for classifying the MNIST digits (0-9) using 10 output nodes (1 for each of our output classes).  In our approach, we will move the softmax function out of the model and into our Loss function used in training (details to follow).\n",
        "\n",
        "[softmax]: https://en.wikipedia.org/wiki/Softmax_function"
      ]
    },
    {
      "cell_type": "code",
      "metadata": {
        "id": "qQ832SERCIPz",
        "colab_type": "code",
        "colab": {}
      },
      "source": [
        "!pip install cntk\n",
        "!sudo ln -s /usr/lib/x86_64-linux-gnu/libmpi_cxx.so.20 /usr/lib/x86_64-linux-gnu/libmpi_cxx.so.1\n",
        "!sudo ln -s /usr/lib/x86_64-linux-gnu/libmpi.so.20.10.1 /usr/lib/x86_64-linux-gnu/libmpi.so.12"
      ],
      "execution_count": 0,
      "outputs": []
    },
    {
      "cell_type": "code",
      "metadata": {
        "nbpresent": {
          "id": "138d1a78-02e2-4bd6-a20e-07b83f303563"
        },
        "id": "nfIDlJ-hs6zx",
        "colab_type": "code",
        "outputId": "758bdd37-cc81-47b4-f59c-d6849fdb73bc",
        "colab": {
          "base_uri": "https://localhost:8080/",
          "height": 71
        }
      },
      "source": [
        "# Import the relevant components\n",
        "from __future__ import print_function # Use a function definition from future version (say 3.x from 2.7 interpreter)\n",
        "import matplotlib.image as mpimg\n",
        "import matplotlib.pyplot as plt\n",
        "import numpy as np\n",
        "import sys\n",
        "import os\n",
        "\n",
        "import cntk as C\n",
        "\n",
        "%matplotlib inline"
      ],
      "execution_count": 8,
      "outputs": [
        {
          "output_type": "stream",
          "text": [
            "/usr/local/lib/python3.6/dist-packages/cntk/cntk_py_init.py:56: UserWarning: Unsupported Linux distribution (ubuntu-18.04). CNTK supports Ubuntu 16.04 and above, only.\n",
            "  warnings.warn('Unsupported Linux distribution (%s-%s). CNTK supports Ubuntu 16.04 and above, only.' % (__my_distro__, __my_distro_ver__))\n"
          ],
          "name": "stderr"
        }
      ]
    },
    {
      "cell_type": "markdown",
      "metadata": {
        "id": "M2BI0ST3s6z1",
        "colab_type": "text"
      },
      "source": [
        "In the block below, we check if we are running this notebook in the CNTK internal test machines by looking for environment variables defined there. We then select the right target device (GPU vs CPU) to test this notebook. In other cases, we use CNTK's default policy to use the best available device (GPU, if available, else CPU)."
      ]
    },
    {
      "cell_type": "code",
      "metadata": {
        "id": "7rKRYpm5s6z1",
        "colab_type": "code",
        "colab": {}
      },
      "source": [
        "# Select the right target device when this notebook is being tested:\n",
        "if 'TEST_DEVICE' in os.environ:\n",
        "    if os.environ['TEST_DEVICE'] == 'cpu':\n",
        "        C.device.try_set_default_device(C.device.cpu())\n",
        "    else:\n",
        "        C.device.try_set_default_device(C.device.gpu(0))"
      ],
      "execution_count": 0,
      "outputs": []
    },
    {
      "cell_type": "markdown",
      "metadata": {
        "id": "9Dx2q7AAs6z9",
        "colab_type": "text"
      },
      "source": [
        "## Initialization"
      ]
    },
    {
      "cell_type": "code",
      "metadata": {
        "id": "vyhDncfhs6z-",
        "colab_type": "code",
        "colab": {}
      },
      "source": [
        "# Ensure we always get the same amount of randomness\n",
        "np.random.seed(0)\n",
        "C.cntk_py.set_fixed_random_seed(1)\n",
        "C.cntk_py.force_deterministic_algorithms()\n",
        "\n",
        "# Define the data dimensions\n",
        "input_dim = 784\n",
        "num_output_classes = 10"
      ],
      "execution_count": 0,
      "outputs": []
    },
    {
      "cell_type": "markdown",
      "metadata": {
        "id": "-7eNc9AHs60C",
        "colab_type": "text"
      },
      "source": [
        "## Data reading\n",
        "\n",
        "There are different ways one can read data into CNTK. The easiest way is to load the data in memory using NumPy / SciPy / Pandas readers. However, this can be done only for small data sets. Since deep learning requires large amount of data we have chosen in this course to show how to leverage built-in distributed readers that can scale to terrabytes of data with little extra effort. \n",
        "\n",
        "We are using the MNIST data you have downloaded using Lab 1 DataLoader notebook. The dataset has 60,000 training images and 10,000 test images with each image being 28 x 28 pixels. Thus the number of features is equal to 784 (= 28 x 28 pixels), 1 per pixel. The variable `num_output_classes` is set to 10 corresponding to the number of digits (0-9) in the dataset.\n",
        "\n",
        "In Lab 1, the data was downloaded and written to 2 CTF (CNTK Text Format) files, 1 for training, and 1 for testing. Each line of these text files takes the form:\n",
        "\n",
        "    |labels 0 0 0 1 0 0 0 0 0 0 |features 0 0 0 0 ... \n",
        "                                                  (784 integers each representing a pixel)\n",
        "    \n",
        "We are going to use the image pixels corresponding the integer stream named \"features\". We define a `create_reader` function to read the training and test data using the [CTF deserializer](https://cntk.ai/pythondocs/cntk.io.html?highlight=ctfdeserializer#cntk.io.CTFDeserializer). The labels are [1-hot encoded](https://en.wikipedia.org/wiki/One-hot). Refer to Lab 1 for data format visualizations. "
      ]
    },
    {
      "cell_type": "code",
      "metadata": {
        "id": "-ROHz83Is60D",
        "colab_type": "code",
        "colab": {}
      },
      "source": [
        "# Read a CTF formatted text (as mentioned above) using the CTF deserializer from a file\n",
        "def create_reader(path, is_training, input_dim, num_label_classes):\n",
        "    \n",
        "    labelStream = C.io.StreamDef(field='labels', shape=num_label_classes, is_sparse=False)\n",
        "    featureStream = C.io.StreamDef(field='features', shape=input_dim, is_sparse=False)\n",
        "    \n",
        "    deserailizer = C.io.CTFDeserializer(path, C.io.StreamDefs(labels = labelStream, features = featureStream))\n",
        "            \n",
        "    return C.io.MinibatchSource(deserailizer,\n",
        "       randomize = is_training, max_sweeps = C.io.INFINITELY_REPEAT if is_training else 1)"
      ],
      "execution_count": 0,
      "outputs": []
    },
    {
      "cell_type": "code",
      "metadata": {
        "id": "u9RFpTvKs60F",
        "colab_type": "code",
        "colab": {}
      },
      "source": [
        "# Ensure the training and test data is generated and available for this lab.\n",
        "# We search in two locations in the toolkit for the cached MNIST data set.\n",
        "train_file = '/content/drive/My Drive/MPP_DATA/Train-28x28_cntk_text.txt'\n",
        "test_file = '/content/drive/My Drive/MPP_DATA/Test-28x28_cntk_text.txt'"
      ],
      "execution_count": 0,
      "outputs": []
    },
    {
      "cell_type": "markdown",
      "metadata": {
        "id": "HGqBITR4s60J",
        "colab_type": "text"
      },
      "source": [
        "# Model Creation\n",
        "\n",
        "A multiclass logistic regression (LR) network is a simple building block that has been effectively powering many ML \n",
        "applications in the past decade. The figure below summarizes the model in the context of the MNIST data.\n",
        "\n",
        "![mnist-LR](https://www.cntk.ai/jup/cntk103b_MNIST_LR.png)\n",
        "\n",
        "LR is a simple linear model that takes as input, a vector of numbers describing the properties of what we are classifying (also known as a feature vector, $\\bf \\vec{x}$, the pixels in the input MNIST digit image) and emits the *evidence* ($z$). For each of the 10 digits, there is a vector of weights corresponding to the input pixels as show in the figure. These 10 weight vectors define the weight matrix ($\\bf {W}$) with dimension of 10 x 784.  Each feature in the input layer is connected with a summation node by a corresponding weight $w$ (individual weight values from the $\\bf{W}$ matrix). Note there are 10 such nodes, 1 corresponding to each digit to be classified. "
      ]
    },
    {
      "cell_type": "markdown",
      "metadata": {
        "id": "t7onC85as60K",
        "colab_type": "text"
      },
      "source": [
        "The first step is to compute the evidence for an observation. \n",
        "\n",
        "$$\\vec{z} = \\textbf{W} \\bf \\vec{x}^T + \\vec{b}$$ \n",
        "\n",
        "where $\\bf{W}$ is the weight matrix of dimension 10 x 784 and $\\vec{b}$ is known as the *bias* vector with lenght 10, one for each digit. \n",
        "\n",
        "The evidence ($\\vec{z}$) is not squashed (hence no activation). Instead the output is normalized using a [softmax](https://en.wikipedia.org/wiki/Softmax_function) function such that all the outputs add up to a value of 1, thus lending a probabilistic iterpretation to the prediction. In CNTK, we use the softmax operation combined with the cross entropy error as our Loss Function for training."
      ]
    },
    {
      "cell_type": "markdown",
      "metadata": {
        "id": "c-TxfIRBs60L",
        "colab_type": "text"
      },
      "source": [
        "Network input and output: \n",
        "- **input** variable (a key CNTK concept): \n",
        ">An **input** variable is a container in which we fill different observations, in this case image pixels, during model learning (a.k.a.training) and model evaluation (a.k.a. testing). Thus, the shape of the `input` must match the shape of the data that will be provided.  For example, when data are images each of  height 10 pixels  and width 5 pixels, the input feature dimension will be 50 (representing the total number of image pixels).\n",
        "\n",
        "\n",
        "**Knowledge Check:** What is the input dimension of your chosen model? This is fundamental to our understanding of variables in a network or model representation in CNTK."
      ]
    },
    {
      "cell_type": "code",
      "metadata": {
        "id": "aG5OfPC0s60M",
        "colab_type": "code",
        "colab": {}
      },
      "source": [
        "input = C.input_variable(input_dim)\n",
        "label = C.input_variable(num_output_classes)"
      ],
      "execution_count": 0,
      "outputs": []
    },
    {
      "cell_type": "markdown",
      "metadata": {
        "id": "qlhOqbTks60Q",
        "colab_type": "text"
      },
      "source": [
        "## Logistic Regression network setup\n",
        "\n",
        "The CNTK Layers module provides a Dense function that creates a fully connected layer which performs the above operations of weighted input summing and bias addition.  "
      ]
    },
    {
      "cell_type": "code",
      "metadata": {
        "id": "a2NRCKlVs60R",
        "colab_type": "code",
        "colab": {}
      },
      "source": [
        "def create_model(features):\n",
        "    with C.layers.default_options(init = C.glorot_uniform()):\n",
        "        features = C.square(features)\n",
        "        print(features.shape)\n",
        "        r = C.layers.Dense(num_output_classes, activation = None)(features)\n",
        "        return r"
      ],
      "execution_count": 0,
      "outputs": []
    },
    {
      "cell_type": "markdown",
      "metadata": {
        "id": "TLhs0kpQs60U",
        "colab_type": "text"
      },
      "source": [
        "`z` will be used to represent the output of a network."
      ]
    },
    {
      "cell_type": "code",
      "metadata": {
        "id": "rwgw5pDZs60V",
        "colab_type": "code",
        "outputId": "e25bf5f3-4581-4b8f-8a05-a266bfbe29fb",
        "colab": {
          "base_uri": "https://localhost:8080/",
          "height": 34
        }
      },
      "source": [
        "# Scale the input to 0-1 range by dividing each pixel by 255.\n",
        "input_s = input/255\n",
        "z = create_model(input_s)"
      ],
      "execution_count": 16,
      "outputs": [
        {
          "output_type": "stream",
          "text": [
            "(784,)\n"
          ],
          "name": "stdout"
        }
      ]
    },
    {
      "cell_type": "markdown",
      "metadata": {
        "id": "1sER_fvgs60Y",
        "colab_type": "text"
      },
      "source": [
        "## Training\n",
        "\n",
        "Below, we define the **Loss** function, which is used to guide weight changes during training.  \n",
        "\n",
        "As explained in the lectures, we use the `softmax` function to map the accumulated evidences or activations to a probability distribution over the classes (Details of the [softmax function][] and other [activation][] functions).\n",
        "\n",
        "[softmax function]: http://cntk.ai/pythondocs/cntk.ops.html#cntk.ops.softmax\n",
        "\n",
        "[activation]: https://github.com/Microsoft/CNTK/wiki/Activation-Functions\n",
        "\n",
        "We minimize the cross-entropy between the label and predicted probability by the network."
      ]
    },
    {
      "cell_type": "code",
      "metadata": {
        "id": "Fqgm284ns60Y",
        "colab_type": "code",
        "colab": {}
      },
      "source": [
        "loss = C.cross_entropy_with_softmax(z, label)"
      ],
      "execution_count": 0,
      "outputs": []
    },
    {
      "cell_type": "markdown",
      "metadata": {
        "id": "6Pj65vlks60d",
        "colab_type": "text"
      },
      "source": [
        "#### Evaluation\n",
        "\n",
        "Below, we define the **Evaluation** (or metric) function that is used to report a measurement of how well our model is performing.\n",
        "\n",
        "For this problem, we choose the **classification_error()** function as our metric, which returns the average error over the associated samples (treating a match as \"1\", where the model's prediction matches the \"ground truth\" label, and a non-match as \"0\")."
      ]
    },
    {
      "cell_type": "code",
      "metadata": {
        "id": "BIr-Mmx1s60f",
        "colab_type": "code",
        "colab": {}
      },
      "source": [
        "label_error = C.classification_error(z, label)"
      ],
      "execution_count": 0,
      "outputs": []
    },
    {
      "cell_type": "markdown",
      "metadata": {
        "id": "RtHl7inis60i",
        "colab_type": "text"
      },
      "source": [
        "### Configure training\n",
        "\n",
        "The trainer strives to reduce the `loss` function by different optimization approaches, [Stochastic Gradient Descent][] (`sgd`) being one of the most popular. Typically, one would start with random initialization of the model parameters. The `sgd` optimizer would calculate the `loss` or error between the predicted label against the corresponding ground-truth label and using [gradient-decent][] generate a new set model parameters in a single iteration. \n",
        "\n",
        "The aforementioned model parameter update using a single observation at a time is attractive since it does not require the entire data set (all observation) to be loaded in memory and also requires gradient computation over fewer datapoints, thus allowing for training on large data sets. However, the updates generated using a single observation sample at a time can vary wildly between iterations. An intermediate ground is to load a small set of observations and use an average of the `loss` or error from that set to update the model parameters. This subset is called a *minibatch*.\n",
        "\n",
        "With minibatches, we sample observations from the larger training dataset. We repeat the process of model parameters update using different combination of training samples and over a period of time minimize the `loss` (and the error metric). When the incremental error rates are no longer changing significantly or after a preset number of maximum minibatches to train, we claim that our model is trained.\n",
        "\n",
        "One of the key optimization parameters is called the `learning_rate`. For now, we can think of it as a scaling factor that modulates how much we change the parameters in any iteration.\n",
        "With this information, we are ready to create our trainer. \n",
        "\n",
        "[optimization]: https://en.wikipedia.org/wiki/Category:Convex_optimization\n",
        "[Stochastic Gradient Descent]: https://en.wikipedia.org/wiki/Stochastic_gradient_descent\n",
        "[gradient-decent]: http://www.statisticsviews.com/details/feature/5722691/Getting-to-the-Bottom-of-Regression-with-Gradient-Descent.html"
      ]
    },
    {
      "cell_type": "code",
      "metadata": {
        "id": "fpJYByJDs60j",
        "colab_type": "code",
        "colab": {}
      },
      "source": [
        "# Instantiate the trainer object to drive the model training\n",
        "learning_rate = 0.2\n",
        "lr_schedule = C.learning_rate_schedule(learning_rate, C.UnitType.minibatch)\n",
        "learner = C.sgd(z.parameters, lr_schedule)\n",
        "trainer = C.Trainer(z, (loss, label_error), [learner])"
      ],
      "execution_count": 0,
      "outputs": []
    },
    {
      "cell_type": "markdown",
      "metadata": {
        "id": "ybP6D5USs60m",
        "colab_type": "text"
      },
      "source": [
        "First let us create some helper functions that will be needed to visualize different functions associated with training."
      ]
    },
    {
      "cell_type": "code",
      "metadata": {
        "id": "LGHmFaEEs60n",
        "colab_type": "code",
        "colab": {}
      },
      "source": [
        "# Define a utility function to compute the moving average sum.\n",
        "# A more efficient implementation is possible with np.cumsum() function\n",
        "def moving_average(a, w=5):\n",
        "    if len(a) < w:\n",
        "        return a[:]    # Need to send a copy of the array\n",
        "    return [val if idx < w else sum(a[(idx-w):idx])/w for idx, val in enumerate(a)]\n",
        "\n",
        "\n",
        "# Defines a utility that prints the training progress\n",
        "def print_training_progress(trainer, mb, frequency, verbose=1):\n",
        "    training_loss = \"NA\"\n",
        "    eval_error = \"NA\"\n",
        "\n",
        "    if mb%frequency == 0:\n",
        "        training_loss = trainer.previous_minibatch_loss_average\n",
        "        eval_error = trainer.previous_minibatch_evaluation_average\n",
        "        if verbose: \n",
        "            print (\"Minibatch: {0}, Loss: {1:.4f}, Error: {2:.2f}%\".format(mb, training_loss, eval_error*100))\n",
        "        \n",
        "    return mb, training_loss, eval_error"
      ],
      "execution_count": 0,
      "outputs": []
    },
    {
      "cell_type": "markdown",
      "metadata": {
        "id": "Ocq8YQPKs60w",
        "colab_type": "text"
      },
      "source": [
        "<a id='#Run the trainer'></a>\n",
        "### Run the trainer\n",
        "\n",
        "We are now ready to train our fully connected neural net. We want to decide what data we need to feed into the training engine.\n",
        "\n",
        "In this example, each iteration of the optimizer will work on `minibatch_size` sized samples. We would like to train on all 60000 observations. Additionally we will make multiple passes through the data specified by the variable `num_sweeps_to_train_with`. With these parameters we can proceed with training our simple feed forward network."
      ]
    },
    {
      "cell_type": "code",
      "metadata": {
        "id": "Tj7MGp58s60z",
        "colab_type": "code",
        "colab": {}
      },
      "source": [
        "# Initialize the parameters for the trainer\n",
        "minibatch_size = 64\n",
        "num_samples_per_sweep = 60000\n",
        "num_sweeps_to_train_with = 10\n",
        "num_minibatches_to_train = (num_samples_per_sweep * num_sweeps_to_train_with) / minibatch_size"
      ],
      "execution_count": 0,
      "outputs": []
    },
    {
      "cell_type": "code",
      "metadata": {
        "id": "ayzrn7Jqs603",
        "colab_type": "code",
        "outputId": "412dd525-47dd-433b-bf22-c8e6fedd328f",
        "colab": {
          "base_uri": "https://localhost:8080/",
          "height": 340
        }
      },
      "source": [
        "# Create the reader to training data set\n",
        "reader_train = create_reader(train_file, True, input_dim, num_output_classes)\n",
        "\n",
        "# Map the data streams to the input and labels.\n",
        "input_map = {\n",
        "    label  : reader_train.streams.labels,\n",
        "    input  : reader_train.streams.features\n",
        "} \n",
        "\n",
        "# Run the trainer on and perform model training\n",
        "training_progress_output_freq = 500\n",
        "\n",
        "plotdata = {\"batchsize\":[], \"loss\":[], \"error\":[]}\n",
        "\n",
        "for i in range(0, int(num_minibatches_to_train)):\n",
        "    \n",
        "    # Read a mini batch from the training data file\n",
        "    data = reader_train.next_minibatch(minibatch_size, input_map = input_map)\n",
        "    \n",
        "    trainer.train_minibatch(data)\n",
        "    batchsize, loss, error = print_training_progress(trainer, i, training_progress_output_freq, verbose=1)\n",
        "    \n",
        "    if not (loss == \"NA\" or error ==\"NA\"):\n",
        "        plotdata[\"batchsize\"].append(batchsize)\n",
        "        plotdata[\"loss\"].append(loss)\n",
        "        plotdata[\"error\"].append(error)"
      ],
      "execution_count": 22,
      "outputs": [
        {
          "output_type": "stream",
          "text": [
            "Minibatch: 0, Loss: 2.2639, Error: 84.38%\n",
            "Minibatch: 500, Loss: 0.2774, Error: 6.25%\n",
            "Minibatch: 1000, Loss: 0.2758, Error: 4.69%\n",
            "Minibatch: 1500, Loss: 0.5188, Error: 15.62%\n",
            "Minibatch: 2000, Loss: 0.2518, Error: 7.81%\n",
            "Minibatch: 2500, Loss: 0.1667, Error: 4.69%\n",
            "Minibatch: 3000, Loss: 0.2723, Error: 7.81%\n",
            "Minibatch: 3500, Loss: 0.2985, Error: 9.38%\n",
            "Minibatch: 4000, Loss: 0.2795, Error: 4.69%\n",
            "Minibatch: 4500, Loss: 0.2336, Error: 6.25%\n",
            "Minibatch: 5000, Loss: 0.2516, Error: 9.38%\n",
            "Minibatch: 5500, Loss: 0.1852, Error: 6.25%\n",
            "Minibatch: 6000, Loss: 0.1684, Error: 3.12%\n",
            "Minibatch: 6500, Loss: 0.2283, Error: 7.81%\n",
            "Minibatch: 7000, Loss: 0.3118, Error: 7.81%\n",
            "Minibatch: 7500, Loss: 0.3169, Error: 6.25%\n",
            "Minibatch: 8000, Loss: 0.0878, Error: 0.00%\n",
            "Minibatch: 8500, Loss: 0.1557, Error: 6.25%\n",
            "Minibatch: 9000, Loss: 0.3251, Error: 7.81%\n"
          ],
          "name": "stdout"
        }
      ]
    },
    {
      "cell_type": "markdown",
      "metadata": {
        "id": "rqv33O6Ds606",
        "colab_type": "text"
      },
      "source": [
        "Let us plot the errors over the different training minibatches. Note that as we progress in our training, the loss decreases though we do see some intermediate bumps.  "
      ]
    },
    {
      "cell_type": "code",
      "metadata": {
        "id": "sq2Z33JGs608",
        "colab_type": "code",
        "outputId": "29788b44-84ed-4839-f383-e53170f7761e",
        "colab": {
          "base_uri": "https://localhost:8080/",
          "height": 337
        }
      },
      "source": [
        "# Compute the moving average loss to smooth out the noise in SGD\n",
        "plotdata[\"avgloss\"] = moving_average(plotdata[\"loss\"])\n",
        "plotdata[\"avgerror\"] = moving_average(plotdata[\"error\"])\n",
        "\n",
        "# Plot the training loss and the training error\n",
        "import matplotlib.pyplot as plt\n",
        "\n",
        "plt.figure(1)\n",
        "plt.subplot(211)\n",
        "plt.plot(plotdata[\"batchsize\"], plotdata[\"avgloss\"], 'b--')\n",
        "plt.xlabel('Minibatch number')\n",
        "plt.ylabel('Loss')\n",
        "plt.title('Minibatch run vs. Training loss')\n",
        "\n",
        "plt.show()\n",
        "\n",
        "plt.subplot(212)\n",
        "plt.plot(plotdata[\"batchsize\"], plotdata[\"avgerror\"], 'r--')\n",
        "plt.xlabel('Minibatch number')\n",
        "plt.ylabel('Label Prediction Error')\n",
        "plt.title('Minibatch run vs. Label Prediction Error')\n",
        "plt.show()"
      ],
      "execution_count": 23,
      "outputs": [
        {
          "output_type": "display_data",
          "data": {
            "image/png": "[encoded data removed]",
            "text/plain": [
              "<Figure size 432x288 with 1 Axes>"
            ]
          },
          "metadata": {
            "tags": []
          }
        },
        {
          "output_type": "display_data",
          "data": {
            "image/png": "[encoded data removed]",
            "text/plain": [
              "<Figure size 432x288 with 1 Axes>"
            ]
          },
          "metadata": {
            "tags": []
          }
        }
      ]
    },
    {
      "cell_type": "markdown",
      "metadata": {
        "id": "CU_YB2mbs60_",
        "colab_type": "text"
      },
      "source": [
        "## Evaluation / Testing \n",
        "\n",
        "Now that we have trained the network, let us evaluate the trained network on the test data. This is done using `trainer.test_minibatch`."
      ]
    },
    {
      "cell_type": "code",
      "metadata": {
        "id": "SBVJZGv1s61D",
        "colab_type": "code",
        "outputId": "949e6c52-d0a4-4e6c-82cc-5d28b2d88249",
        "colab": {
          "base_uri": "https://localhost:8080/",
          "height": 34
        }
      },
      "source": [
        "# Read the training data\n",
        "reader_test = create_reader(test_file, False, input_dim, num_output_classes)\n",
        "\n",
        "test_input_map = {\n",
        "    label  : reader_test.streams.labels,\n",
        "    input  : reader_test.streams.features,\n",
        "}\n",
        "\n",
        "# Test data for trained model\n",
        "test_minibatch_size = 512\n",
        "num_samples = 10000\n",
        "num_minibatches_to_test = num_samples // test_minibatch_size\n",
        "test_result = 0.0\n",
        "\n",
        "for i in range(num_minibatches_to_test):\n",
        "    \n",
        "    # We are loading test data in batches specified by test_minibatch_size\n",
        "    # Each data point in the minibatch is a MNIST digit image of 784 dimensions \n",
        "    # with one pixel per dimension that we will encode / decode with the \n",
        "    # trained model.\n",
        "    data = reader_test.next_minibatch(test_minibatch_size,\n",
        "                                      input_map = test_input_map)\n",
        "\n",
        "    eval_error = trainer.test_minibatch(data)\n",
        "    test_result = test_result + eval_error\n",
        "\n",
        "# Average of evaluation errors of all test minibatches\n",
        "print(\"Average test error: {0:.2f}%\".format(test_result*100 / num_minibatches_to_test))"
      ],
      "execution_count": 24,
      "outputs": [
        {
          "output_type": "stream",
          "text": [
            "Average test error: 7.76%\n"
          ],
          "name": "stdout"
        }
      ]
    },
    {
      "cell_type": "markdown",
      "metadata": {
        "id": "xLOiQJhos61H",
        "colab_type": "text"
      },
      "source": [
        "We have so far been dealing with aggregate measures of error. Let us now get the probabilities associated with individual data points. For each observation, the `eval` function returns the probability distribution across all the classes. The classifier is trained to recognize digits, hence has 10 classes. First let us route the network output through a `softmax` function. This maps the aggregated activations across the network to probabilities across the 10 classes."
      ]
    },
    {
      "cell_type": "code",
      "metadata": {
        "id": "5gpmJIojs61H",
        "colab_type": "code",
        "colab": {}
      },
      "source": [
        "out = C.softmax(z)"
      ],
      "execution_count": 0,
      "outputs": []
    },
    {
      "cell_type": "markdown",
      "metadata": {
        "id": "g8x3vXfzs61K",
        "colab_type": "text"
      },
      "source": [
        "Let us test a small minibatch sample from the test data."
      ]
    },
    {
      "cell_type": "code",
      "metadata": {
        "id": "VvEZZ78zs61L",
        "colab_type": "code",
        "colab": {}
      },
      "source": [
        "# Read the data for evaluation\n",
        "reader_eval = create_reader(test_file, False, input_dim, num_output_classes)\n",
        "\n",
        "eval_minibatch_size = 25\n",
        "eval_input_map = {input: reader_eval.streams.features} \n",
        "\n",
        "data = reader_test.next_minibatch(eval_minibatch_size, input_map = test_input_map)\n",
        "\n",
        "img_label = data[label].asarray()\n",
        "img_data = data[input].asarray()\n",
        "predicted_label_prob = [out.eval(img_data[i]) for i in range(len(img_data))]"
      ],
      "execution_count": 0,
      "outputs": []
    },
    {
      "cell_type": "code",
      "metadata": {
        "id": "05u19iXEs61O",
        "colab_type": "code",
        "colab": {}
      },
      "source": [
        "# Find the index with the maximum value for both predicted as well as the ground truth\n",
        "pred = [np.argmax(predicted_label_prob[i]) for i in range(len(predicted_label_prob))]\n",
        "gtlabel = [np.argmax(img_label[i]) for i in range(len(img_label))]"
      ],
      "execution_count": 0,
      "outputs": []
    },
    {
      "cell_type": "code",
      "metadata": {
        "id": "YLG_7Wl2s61S",
        "colab_type": "code",
        "outputId": "6aa1e6f3-f815-4c16-df75-22f55918430b",
        "colab": {
          "base_uri": "https://localhost:8080/",
          "height": 51
        }
      },
      "source": [
        "print(\"Label    :\", gtlabel[:25])\n",
        "print(\"Predicted:\", pred)"
      ],
      "execution_count": 28,
      "outputs": [
        {
          "output_type": "stream",
          "text": [
            "Label    : [4, 5, 6, 7, 8, 9, 7, 4, 6, 1, 4, 0, 9, 9, 3, 7, 8, 4, 7, 5, 8, 5, 3, 2, 2]\n",
            "Predicted: [4, 6, 6, 7, 5, 8, 7, 4, 6, 1, 4, 0, 4, 7, 3, 7, 1, 2, 7, 5, 8, 6, 3, 2, 0]\n"
          ],
          "name": "stdout"
        }
      ]
    },
    {
      "cell_type": "markdown",
      "metadata": {
        "id": "rg9TsxxJs61V",
        "colab_type": "text"
      },
      "source": [
        "As you can see above, our model is not yet perfect.  \n",
        "\n",
        "Let us visualize one of the test images and its associated label.  Do they match?"
      ]
    },
    {
      "cell_type": "code",
      "metadata": {
        "id": "ZaIRQba7s61V",
        "colab_type": "code",
        "outputId": "395d4e83-5135-4136-f9fe-18061efa3f08",
        "colab": {
          "base_uri": "https://localhost:8080/",
          "height": 265
        }
      },
      "source": [
        "# Plot a random image\n",
        "sample_number = 5\n",
        "plt.imshow(img_data[sample_number].reshape(28,28), cmap=\"gray_r\")\n",
        "plt.axis('off')\n",
        "\n",
        "img_gt, img_pred = gtlabel[sample_number], pred[sample_number]\n",
        "print(\"Image Label: \", img_pred)"
      ],
      "execution_count": 29,
      "outputs": [
        {
          "output_type": "stream",
          "text": [
            "Image Label:  8\n"
          ],
          "name": "stdout"
        },
        {
          "output_type": "display_data",
          "data": {
            "image/png": "[encoded data removed]",
            "text/plain": [
              "<Figure size 432x288 with 1 Axes>"
            ]
          },
          "metadata": {
            "tags": []
          }
        }
      ]
    },
    {
      "cell_type": "markdown",
      "metadata": {
        "id": "S6jbcDMzs61Y",
        "colab_type": "text"
      },
      "source": [
        "**Suggested Explorations**\n",
        "\n",
        "A. Change the `minibatch_size` parameter (from 64) to 128 and then to 512 during training. What is the observed average test error rate (rounded to 2nd decimal place) with each new model?\n",
        "\n",
        "B. Increase the number of sweeps.  How does the test error change?\n",
        "\n",
        "C. Can you change the network to reduce the training error rate? When do you see *overfitting* happening?  \n",
        "\n",
        "D. Lets now add more features to our model. We will add square of the input values as additional features. You will take the input pixels, scale them by 255. Use `C.square` and `C.splice` functions to create a new model. Use this model to perform classification. Note: use the original setting for the rest of the notebook\n",
        "\n",
        "E. Now add sqrt as another set of features to the model. Use this model to perform classification."
      ]
    },
    {
      "cell_type": "code",
      "metadata": {
        "id": "Cu94bN7gC0OH",
        "colab_type": "code",
        "colab": {}
      },
      "source": [
        ""
      ],
      "execution_count": 0,
      "outputs": []
    }
  ]
}