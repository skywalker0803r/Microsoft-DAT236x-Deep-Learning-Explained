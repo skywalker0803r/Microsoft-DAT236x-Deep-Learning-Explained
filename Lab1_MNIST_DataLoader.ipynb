{
  "nbformat": 4,
  "nbformat_minor": 0,
  "metadata": {
    "anaconda-cloud": {},
    "kernelspec": {
      "display_name": "Python 3",
      "language": "python",
      "name": "python3"
    },
    "language_info": {
      "codemirror_mode": {
        "name": "ipython",
        "version": 3
      },
      "file_extension": ".py",
      "mimetype": "text/x-python",
      "name": "python",
      "nbconvert_exporter": "python",
      "pygments_lexer": "ipython3",
      "version": "3.6.1"
    },
    "colab": {
      "name": "Lab1_MNIST_DataLoader.ipynb",
      "provenance": [],
      "collapsed_sections": [],
      "include_colab_link": true
    }
  },
  "cells": [
    {
      "cell_type": "markdown",
      "metadata": {
        "id": "view-in-github",
        "colab_type": "text"
      },
      "source": [
        "<a href=\"https://colab.research.google.com/github/skywalker0803r/Microsoft_Mpp_Course/blob/master/Lab1_MNIST_DataLoader.ipynb\" target=\"_parent\"><img src=\"https://colab.research.google.com/assets/colab-badge.svg\" alt=\"Open In Colab\"/></a>"
      ]
    },
    {
      "cell_type": "markdown",
      "metadata": {
        "collapsed": true,
        "id": "TZOdpidjqhDf",
        "colab_type": "text"
      },
      "source": [
        "# Lab 1: MNIST Data Loader\n",
        "\n",
        "This notebook is the first lab of the \"Deep Learning Explained\" course.  It is derived from  the tutorial numbered CNTK_103A in the CNTK repository.  This notebook is used to download and pre-process the [MNIST][] digit images to be used for building different models to recognize handwritten digits.   \n",
        "\n",
        "** Note: ** This notebook must be run to completion before the other course notebooks can be run.\n",
        "\n",
        "[MNIST]: http://yann.lecun.com/exdb/mnist/"
      ]
    },
    {
      "cell_type": "code",
      "metadata": {
        "id": "SyD60XBlqhDi",
        "colab_type": "code",
        "colab": {}
      },
      "source": [
        "# Import the relevant modules to be used later\n",
        "from __future__ import print_function\n",
        "import gzip\n",
        "import matplotlib.image as mpimg\n",
        "import matplotlib.pyplot as plt\n",
        "import numpy as np\n",
        "import os\n",
        "import shutil\n",
        "import struct\n",
        "import sys\n",
        "\n",
        "try: \n",
        "    from urllib.request import urlretrieve \n",
        "except ImportError: \n",
        "    from urllib import urlretrieve\n",
        "\n",
        "# Config matplotlib for inline plotting\n",
        "%matplotlib inline"
      ],
      "execution_count": 0,
      "outputs": []
    },
    {
      "cell_type": "code",
      "metadata": {
        "id": "9OOrQtsqsMVU",
        "colab_type": "code",
        "outputId": "5f0973d3-66f3-4fd7-ee7b-90f05187fa57",
        "colab": {
          "base_uri": "https://localhost:8080/",
          "height": 35
        }
      },
      "source": [
        "from google.colab import drive\n",
        "drive.mount('/content/drive')"
      ],
      "execution_count": 0,
      "outputs": [
        {
          "output_type": "stream",
          "text": [
            "Drive already mounted at /content/drive; to attempt to forcibly remount, call drive.mount(\"/content/drive\", force_remount=True).\n"
          ],
          "name": "stdout"
        }
      ]
    },
    {
      "cell_type": "markdown",
      "metadata": {
        "id": "6AnARBegqhDl",
        "colab_type": "text"
      },
      "source": [
        "## Data download\n",
        "\n",
        "We will download the data onto the local machine. The MNIST database is a standard set of handwritten digits that has been widely used for training and testing of machine learning algorithms. It has a training set of 60,000 images and a test set of 10,000 images with each image being 28 x 28 grayscale pixels. This set is easy to use visualize and train on any computer."
      ]
    },
    {
      "cell_type": "code",
      "metadata": {
        "id": "rIqxsxrQqhDm",
        "colab_type": "code",
        "colab": {}
      },
      "source": [
        "# Functions to load MNIST images and unpack into train and test set.\n",
        "# - loadData reads image data and formats into a 28x28 long array\n",
        "# - loadLabels reads the corresponding labels data, 1 for each image\n",
        "# - load packs the downloaded image and labels data into a combined format to be read later by \n",
        "#   CNTK text reader \n",
        "\n",
        "def loadData(src, cimg):\n",
        "    print ('Downloading ' + src)\n",
        "    gzfname, h = urlretrieve(src, './delete.me')\n",
        "    print ('Done.')\n",
        "    try:\n",
        "        with gzip.open(gzfname) as gz:\n",
        "            n = struct.unpack('I', gz.read(4))\n",
        "            # Read magic number.\n",
        "            if n[0] != 0x3080000:\n",
        "                raise Exception('Invalid file: unexpected magic number.')\n",
        "            # Read number of entries.\n",
        "            n = struct.unpack('>I', gz.read(4))[0]\n",
        "            if n != cimg:\n",
        "                raise Exception('Invalid file: expected {0} entries.'.format(cimg))\n",
        "            crow = struct.unpack('>I', gz.read(4))[0]\n",
        "            ccol = struct.unpack('>I', gz.read(4))[0]\n",
        "            if crow != 28 or ccol != 28:\n",
        "                raise Exception('Invalid file: expected 28 rows/cols per image.')\n",
        "            # Read data.\n",
        "            res = np.fromstring(gz.read(cimg * crow * ccol), dtype = np.uint8)\n",
        "    finally:\n",
        "        os.remove(gzfname)\n",
        "    return res.reshape((cimg, crow * ccol))\n",
        "\n",
        "def loadLabels(src, cimg):\n",
        "    print ('Downloading ' + src)\n",
        "    gzfname, h = urlretrieve(src, './delete.me')\n",
        "    print ('Done.')\n",
        "    try:\n",
        "        with gzip.open(gzfname) as gz:\n",
        "            n = struct.unpack('I', gz.read(4))\n",
        "            # Read magic number.\n",
        "            if n[0] != 0x1080000:\n",
        "                raise Exception('Invalid file: unexpected magic number.')\n",
        "            # Read number of entries.\n",
        "            n = struct.unpack('>I', gz.read(4))\n",
        "            if n[0] != cimg:\n",
        "                raise Exception('Invalid file: expected {0} rows.'.format(cimg))\n",
        "            # Read labels.\n",
        "            res = np.fromstring(gz.read(cimg), dtype = np.uint8)\n",
        "    finally:\n",
        "        os.remove(gzfname)\n",
        "    return res.reshape((cimg, 1))\n",
        "\n",
        "def try_download(dataSrc, labelsSrc, cimg):\n",
        "    data = loadData(dataSrc, cimg)\n",
        "    labels = loadLabels(labelsSrc, cimg)\n",
        "    return np.hstack((data, labels))\n"
      ],
      "execution_count": 0,
      "outputs": []
    },
    {
      "cell_type": "markdown",
      "metadata": {
        "id": "d9c81QWMqhDq",
        "colab_type": "text"
      },
      "source": [
        "# Download the data\n",
        "\n",
        "In the following code, we use the functions defined above to download and unzip the MNIST data into memory.  The training set has 60000 images while the test set has 10000 images. "
      ]
    },
    {
      "cell_type": "code",
      "metadata": {
        "id": "ski0CyToqhDr",
        "colab_type": "code",
        "outputId": "73ea9121-9c9a-4de5-a7d8-3a8283f405e0",
        "colab": {
          "base_uri": "https://localhost:8080/",
          "height": 230
        }
      },
      "source": [
        "# URLs for the train image and labels data\n",
        "url_train_image = 'http://yann.lecun.com/exdb/mnist/train-images-idx3-ubyte.gz'\n",
        "url_train_labels = 'http://yann.lecun.com/exdb/mnist/train-labels-idx1-ubyte.gz'\n",
        "num_train_samples = 60000\n",
        "\n",
        "print(\"Downloading train data\")\n",
        "train = try_download(url_train_image, url_train_labels, num_train_samples)\n",
        "\n",
        "\n",
        "url_test_image = 'http://yann.lecun.com/exdb/mnist/t10k-images-idx3-ubyte.gz'\n",
        "url_test_labels = 'http://yann.lecun.com/exdb/mnist/t10k-labels-idx1-ubyte.gz'\n",
        "num_test_samples = 10000\n",
        "\n",
        "print(\"Downloading test data\")\n",
        "test = try_download(url_test_image, url_test_labels, num_test_samples)"
      ],
      "execution_count": 0,
      "outputs": [
        {
          "output_type": "stream",
          "text": [
            "Downloading train data\n",
            "Downloading http://yann.lecun.com/exdb/mnist/train-images-idx3-ubyte.gz\n",
            "Done.\n"
          ],
          "name": "stdout"
        },
        {
          "output_type": "stream",
          "text": [
            "/usr/local/lib/python3.6/dist-packages/ipykernel_launcher.py:21: DeprecationWarning: The binary mode of fromstring is deprecated, as it behaves surprisingly on unicode inputs. Use frombuffer instead\n"
          ],
          "name": "stderr"
        },
        {
          "output_type": "stream",
          "text": [
            "Downloading http://yann.lecun.com/exdb/mnist/train-labels-idx1-ubyte.gz\n",
            "Done.\n",
            "Downloading test data\n",
            "Downloading http://yann.lecun.com/exdb/mnist/t10k-images-idx3-ubyte.gz\n"
          ],
          "name": "stdout"
        },
        {
          "output_type": "stream",
          "text": [
            "/usr/local/lib/python3.6/dist-packages/ipykernel_launcher.py:41: DeprecationWarning: The binary mode of fromstring is deprecated, as it behaves surprisingly on unicode inputs. Use frombuffer instead\n"
          ],
          "name": "stderr"
        },
        {
          "output_type": "stream",
          "text": [
            "Done.\n",
            "Downloading http://yann.lecun.com/exdb/mnist/t10k-labels-idx1-ubyte.gz\n",
            "Done.\n"
          ],
          "name": "stdout"
        }
      ]
    },
    {
      "cell_type": "markdown",
      "metadata": {
        "id": "ZPZDptwvqhDw",
        "colab_type": "text"
      },
      "source": [
        "# Visualize the data\n",
        "Here, we use matplotlib to display one of the training images and it's associated label."
      ]
    },
    {
      "cell_type": "code",
      "metadata": {
        "id": "5mRKOpyuqhDy",
        "colab_type": "code",
        "outputId": "3f3a7313-f420-4a40-ba6e-ddf97d0033c2",
        "colab": {
          "base_uri": "https://localhost:8080/",
          "height": 266
        }
      },
      "source": [
        "# Plot a random image\n",
        "sample_number = 5001\n",
        "plt.imshow(train[sample_number,:-1].reshape(28,28), cmap=\"gray_r\")\n",
        "plt.axis('off')\n",
        "print(\"Image Label: \", train[sample_number,-1])"
      ],
      "execution_count": 0,
      "outputs": [
        {
          "output_type": "stream",
          "text": [
            "Image Label:  3\n"
          ],
          "name": "stdout"
        },
        {
          "output_type": "display_data",
          "data": {
            "image/png": "[encoded data removed]",
            "text/plain": [
              "<Figure size 432x288 with 1 Axes>"
            ]
          },
          "metadata": {
            "tags": []
          }
        }
      ]
    },
    {
      "cell_type": "markdown",
      "metadata": {
        "id": "uqw8_xsTqhD2",
        "colab_type": "text"
      },
      "source": [
        "# Save the images\n",
        "\n",
        "Save the images in a local directory. While saving the data we flatten the images to a vector (28x28 image pixels becomes an array of length 784 data points).\n",
        "\n",
        "![mnist-input](https://www.cntk.ai/jup/cntk103a_MNIST_input.png)\n",
        "\n",
        "The labels are encoded as [1-hot][] encoding (label of 3 with 10 digits becomes `0001000000`, where the first index corresponds to digit `0` and the last one corresponds to digit `9`.\n",
        "\n",
        "![mnist-label](https://www.cntk.ai/jup/cntk103a_onehot.png)\n",
        "\n",
        "[1-hot]: https://en.wikipedia.org/wiki/One-hot"
      ]
    },
    {
      "cell_type": "code",
      "metadata": {
        "id": "30qsjwk6qhD3",
        "colab_type": "code",
        "colab": {}
      },
      "source": [
        "# Save the data files into a format compatible with CNTK text reader\n",
        "def savetxt(filename, ndarray):\n",
        "    dir = os.path.dirname(filename)\n",
        "\n",
        "    if not os.path.exists(dir):\n",
        "        os.makedirs(dir)\n",
        "\n",
        "    if not os.path.isfile(filename):\n",
        "        print(\"Saving\", filename )\n",
        "        with open(filename, 'w') as f:\n",
        "            labels = list(map(' '.join, np.eye(10, dtype=np.uint).astype(str)))\n",
        "            for row in ndarray:\n",
        "                row_str = row.astype(str)\n",
        "                label_str = labels[row[-1]]\n",
        "                feature_str = ' '.join(row_str[:-1])\n",
        "                f.write('|labels {} |features {}\\n'.format(label_str, feature_str))\n",
        "    else:\n",
        "        print(\"File already exists\", filename)\n"
      ],
      "execution_count": 0,
      "outputs": []
    },
    {
      "cell_type": "code",
      "metadata": {
        "id": "_-nTVt0kqhD7",
        "colab_type": "code",
        "outputId": "2f129cca-3a6c-471e-e8d5-eaa78c3824fc",
        "colab": {
          "base_uri": "https://localhost:8080/",
          "height": 70
        }
      },
      "source": [
        "savetxt('/content/drive/My Drive/MPP_DATA/Train-28x28_cntk_text.txt', train)\n",
        "savetxt('/content/drive/My Drive/MPP_DATA/Test-28x28_cntk_text.txt', test)\n",
        "print('Done')"
      ],
      "execution_count": 0,
      "outputs": [
        {
          "output_type": "stream",
          "text": [
            "Saving /content/drive/My Drive/MPP_DATA/Train-28x28_cntk_text.txt\n",
            "Saving /content/drive/My Drive/MPP_DATA/Test-28x28_cntk_text.txt\n",
            "Done\n"
          ],
          "name": "stdout"
        }
      ]
    },
    {
      "cell_type": "markdown",
      "metadata": {
        "id": "lJlGuu0JqhD-",
        "colab_type": "text"
      },
      "source": [
        "**Optional: Suggested Explorations** \n",
        "\n",
        "One can do data manipulations to improve the performance of a machine learning system. I suggest you first use the data generated so far and complete Lab 2- 4 labs. Once you have a baseline with classifying the data in its original form, now use the different data manipulation techniques to further improve the model.\n",
        "\n",
        "There are several ways data alterations can be performed. CNTK readers automate a lot of these actions for you. However, to get a feel for how these transforms can impact training and test accuracies, I strongly encourage individuals to try one or more of data perturbation.\n",
        "\n",
        "- Shuffle the training data rows to create a different set of training images.  Be sure to shuffle each image in the same way.   Hint: Use `permute_indices = np.random.permutation(train.shape[0])`. Then run Lab 2-4 with this newly permuted data.\n",
        "- Adding noise to the data can often improve (lower) the [generalization error][]. You can augment the training set by adding  noise (generated with numpy, hint: use `numpy.random`) to the training images. \n",
        "- Distort the images with [affine transformation][] (translations or rotations)\n",
        "\n",
        "[generalization error]: https://en.wikipedia.org/wiki/Generalization_error\n",
        "[affine transformation]: https://en.wikipedia.org/wiki/Affine_transformation\n"
      ]
    },
    {
      "cell_type": "code",
      "metadata": {
        "id": "3UDpZjxqqhD_",
        "colab_type": "code",
        "colab": {}
      },
      "source": [
        ""
      ],
      "execution_count": 0,
      "outputs": []
    }
  ]
}