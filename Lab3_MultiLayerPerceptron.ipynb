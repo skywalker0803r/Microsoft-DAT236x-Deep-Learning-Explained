{
  "nbformat": 4,
  "nbformat_minor": 0,
  "metadata": {
    "kernelspec": {
      "name": "python3",
      "display_name": "Python 3"
    },
    "language_info": {
      "mimetype": "text/x-python",
      "nbconvert_exporter": "python",
      "version": "3.5.1",
      "name": "python",
      "file_extension": ".py",
      "pygments_lexer": "ipython3",
      "codemirror_mode": {
        "version": 3,
        "name": "ipython"
      }
    },
    "anaconda-cloud": {},
    "colab": {
      "name": "Lab3_MultiLayerPerceptron.ipynb",
      "provenance": [],
      "collapsed_sections": [],
      "include_colab_link": true
    },
    "accelerator": "GPU"
  },
  "cells": [
    {
      "cell_type": "markdown",
      "metadata": {
        "id": "view-in-github",
        "colab_type": "text"
      },
      "source": [
        "<a href=\"https://colab.research.google.com/github/skywalker0803r/Microsoft_Mpp_Course/blob/master/Lab3_MultiLayerPerceptron.ipynb\" target=\"_parent\"><img src=\"https://colab.research.google.com/assets/colab-badge.svg\" alt=\"Open In Colab\"/></a>"
      ]
    },
    {
      "cell_type": "code",
      "metadata": {
        "id": "mpHPGjhKsJ-9",
        "colab_type": "code",
        "colab": {}
      },
      "source": [
        "from IPython.display import Image"
      ],
      "execution_count": 0,
      "outputs": []
    },
    {
      "cell_type": "code",
      "metadata": {
        "id": "vMs7_DhptnJX",
        "colab_type": "code",
        "colab": {
          "base_uri": "https://localhost:8080/",
          "height": 122
        },
        "outputId": "0d6f183c-f655-4893-847f-c9b885cb1902"
      },
      "source": [
        "from google.colab import drive\n",
        "drive.mount('/content/drive')"
      ],
      "execution_count": 2,
      "outputs": [
        {
          "output_type": "stream",
          "text": [
            "Go to this URL in a browser: https://accounts.google.com/o/oauth2/auth?client_id=947318989803-6bn6qk8qdgf4n4g3pfee6491hc0brc4i.apps.googleusercontent.com&redirect_uri=urn%3aietf%3awg%3aoauth%3a2.0%3aoob&response_type=code&scope=email%20https%3a%2f%2fwww.googleapis.com%2fauth%2fdocs.test%20https%3a%2f%2fwww.googleapis.com%2fauth%2fdrive%20https%3a%2f%2fwww.googleapis.com%2fauth%2fdrive.photos.readonly%20https%3a%2f%2fwww.googleapis.com%2fauth%2fpeopleapi.readonly\n",
            "\n",
            "Enter your authorization code:\n",
            "··········\n",
            "Mounted at /content/drive\n"
          ],
          "name": "stdout"
        }
      ]
    },
    {
      "cell_type": "markdown",
      "metadata": {
        "nbpresent": {
          "id": "29b9bd1d-766f-4422-ad96-de0accc1ce58"
        },
        "id": "1nDRPmfSsJ_M",
        "colab_type": "text"
      },
      "source": [
        "# Lab 3 - Multi Layer Perceptron with MNIST\n",
        "\n",
        "This lab corresponds to Module 3 of the \"Deep Learning Explained\" course.  We assume that you have successfully completed Lab 1 (Downloading the MNIST data).\n",
        "\n",
        "In this lab, we train a multi-layer perceptron on MNIST data. This notebook provides the recipe using Python APIs. \n",
        "\n",
        "## Introduction\n",
        "\n",
        "**Problem** \n",
        "We will continue to work on the same problem of recognizing digits in MNIST data. The MNIST data comprises of hand-written digits with little background noise."
      ]
    },
    {
      "cell_type": "code",
      "metadata": {
        "id": "YnME_FXLsJ_O",
        "colab_type": "code",
        "colab": {
          "base_uri": "https://localhost:8080/",
          "height": 221
        },
        "outputId": "3a8b6988-056b-4abb-c2a6-4ccd9c2c9680"
      },
      "source": [
        "# Figure 1\n",
        "Image(url= \"http://3.bp.blogspot.com/_UpN7DfJA0j4/TJtUBWPk0SI/AAAAAAAAABY/oWPMtmqJn3k/s1600/mnist_originals.png\", width=200, height=200)"
      ],
      "execution_count": 3,
      "outputs": [
        {
          "output_type": "execute_result",
          "data": {
            "text/html": [
              "<img src=\"http://3.bp.blogspot.com/_UpN7DfJA0j4/TJtUBWPk0SI/AAAAAAAAABY/oWPMtmqJn3k/s1600/mnist_originals.png\" width=\"200\" height=\"200\"/>"
            ],
            "text/plain": [
              "<IPython.core.display.Image object>"
            ]
          },
          "metadata": {
            "tags": []
          },
          "execution_count": 3
        }
      ]
    },
    {
      "cell_type": "markdown",
      "metadata": {
        "id": "7dwi5m0ZsJ_V",
        "colab_type": "text"
      },
      "source": [
        "**Goal**:\n",
        "Our goal is to train a classifier that will identify the digits in the MNIST dataset. Additionally, we aspire to achieve lower error rate with Multi-layer perceptron compared to Multi-class logistic regression. \n",
        "\n",
        "**Approach**:\n",
        "There are 4 stages in this lab: \n",
        "- **Data reading**: We will use the CNTK Text reader.  \n",
        "- **Data preprocessing**: Covered in part A (suggested extension section). \n",
        "- **Model creation**: Multi-Layer Perceptron model.\n",
        "- **Train-Test-Predict**: This is the same workflow introduced in the lectures\n"
      ]
    },
    {
      "cell_type": "markdown",
      "metadata": {
        "id": "MIe-YPh3tUJa",
        "colab_type": "text"
      },
      "source": [
        "# **if error run me**"
      ]
    },
    {
      "cell_type": "code",
      "metadata": {
        "id": "78DzoIS0sdWx",
        "colab_type": "code",
        "colab": {
          "base_uri": "https://localhost:8080/",
          "height": 136
        },
        "outputId": "db3ebf53-df2e-4b8e-b96c-3d95a1d454b9"
      },
      "source": [
        "!pip install cntk\n",
        "!sudo ln -s /usr/lib/x86_64-linux-gnu/libmpi_cxx.so.20 /usr/lib/x86_64-linux-gnu/libmpi_cxx.so.1\n",
        "!sudo ln -s /usr/lib/x86_64-linux-gnu/libmpi.so.20.10.1 /usr/lib/x86_64-linux-gnu/libmpi.so.12"
      ],
      "execution_count": 4,
      "outputs": [
        {
          "output_type": "stream",
          "text": [
            "Collecting cntk\n",
            "\u001b[?25l  Downloading https://files.pythonhosted.org/packages/8e/02/0fbfa3ec554414150be46fde7a8e687104db944a6a55dfdbffe421373695/cntk-2.7.post1-cp36-cp36m-manylinux1_x86_64.whl (75.1MB)\n",
            "\u001b[K     |████████████████████████████████| 75.1MB 87kB/s \n",
            "\u001b[?25hRequirement already satisfied: scipy>=0.17 in /usr/local/lib/python3.6/dist-packages (from cntk) (1.3.2)\n",
            "Requirement already satisfied: numpy>=1.11 in /usr/local/lib/python3.6/dist-packages (from cntk) (1.17.4)\n",
            "Installing collected packages: cntk\n",
            "Successfully installed cntk-2.7\n"
          ],
          "name": "stdout"
        }
      ]
    },
    {
      "cell_type": "code",
      "metadata": {
        "nbpresent": {
          "id": "138d1a78-02e2-4bd6-a20e-07b83f303563"
        },
        "id": "mwNFASQxsJ_X",
        "colab_type": "code",
        "colab": {
          "base_uri": "https://localhost:8080/",
          "height": 51
        },
        "outputId": "fd818056-4ca1-45f3-8da9-70de60d915be"
      },
      "source": [
        "from __future__ import print_function # Use a function definition from future version (say 3.x from 2.7 interpreter)\n",
        "import matplotlib.image as mpimg\n",
        "import matplotlib.pyplot as plt\n",
        "import numpy as np\n",
        "import sys\n",
        "import os\n",
        "import cntk as C\n",
        "%matplotlib inline"
      ],
      "execution_count": 5,
      "outputs": [
        {
          "output_type": "stream",
          "text": [
            "/usr/local/lib/python3.6/dist-packages/cntk/cntk_py_init.py:56: UserWarning: Unsupported Linux distribution (ubuntu-18.04). CNTK supports Ubuntu 16.04 and above, only.\n",
            "  warnings.warn('Unsupported Linux distribution (%s-%s). CNTK supports Ubuntu 16.04 and above, only.' % (__my_distro__, __my_distro_ver__))\n"
          ],
          "name": "stderr"
        }
      ]
    },
    {
      "cell_type": "markdown",
      "metadata": {
        "id": "STcwQ6VusJ_d",
        "colab_type": "text"
      },
      "source": [
        "In the block below, we check if we are running this notebook in the CNTK internal test machines by looking for environment variables defined there. We then select the right target device (GPU vs CPU) to test this notebook. In other cases, we use CNTK's default policy to use the best available device (GPU, if available, else CPU)."
      ]
    },
    {
      "cell_type": "code",
      "metadata": {
        "id": "ymhQ_jPFsJ_f",
        "colab_type": "code",
        "colab": {}
      },
      "source": [
        "# Select the right target device when this notebook is being tested:\n",
        "if 'TEST_DEVICE' in os.environ:\n",
        "    if os.environ['TEST_DEVICE'] == 'cpu':\n",
        "        C.device.try_set_default_device(C.device.cpu())\n",
        "    else:\n",
        "        C.device.try_set_default_device(C.device.gpu(0))"
      ],
      "execution_count": 0,
      "outputs": []
    },
    {
      "cell_type": "code",
      "metadata": {
        "id": "9aK8qtMwsJ_r",
        "colab_type": "code",
        "colab": {}
      },
      "source": [
        "# Ensure we always get the same amount of randomness\n",
        "np.random.seed(0)\n",
        "C.cntk_py.set_fixed_random_seed(1)\n",
        "C.cntk_py.force_deterministic_algorithms()\n",
        "\n",
        "# Define the data dimensions\n",
        "input_dim = 784\n",
        "num_output_classes = 10"
      ],
      "execution_count": 0,
      "outputs": []
    },
    {
      "cell_type": "markdown",
      "metadata": {
        "id": "jJbACVtwsJ_x",
        "colab_type": "text"
      },
      "source": [
        "## Data reading\n",
        "\n",
        "There are different ways one can read data into CNTK. The easiest way is to load the data in memory using NumPy / SciPy / Pandas readers. However, this can be done only for small data sets. Since deep learning requires large amount of data we have chosen in this course to show how to leverage built-in distributed readers that can scale to terrabytes of data with little extra effort. \n",
        "\n",
        "We are using the MNIST data you have downloaded using Lab 1 DataLoader notebook. The dataset has 60,000 training images and 10,000 test images with each image being 28 x 28 pixels. Thus the number of features is equal to 784 (= 28 x 28 pixels), 1 per pixel. The variable `num_output_classes` is set to 10 corresponding to the number of digits (0-9) in the dataset.\n",
        "\n",
        "In Lab 1, the data was downloaded and written to 2 CTF (CNTK Text Format) files, 1 for training, and 1 for testing. Each line of these text files takes the form:\n",
        "\n",
        "    |labels 0 0 0 1 0 0 0 0 0 0 |features 0 0 0 0 ... \n",
        "                                                  (784 integers each representing a pixel)\n",
        "    \n",
        "We are going to use the image pixels corresponding the integer stream named \"features\". We define a `create_reader` function to read the training and test data using the [CTF deserializer](https://cntk.ai/pythondocs/cntk.io.html?highlight=ctfdeserializer#cntk.io.CTFDeserializer). The labels are [1-hot encoded](https://en.wikipedia.org/wiki/One-hot). Refer to Lab 1 for data format visualizations. "
      ]
    },
    {
      "cell_type": "code",
      "metadata": {
        "id": "enCUozmksJ_z",
        "colab_type": "code",
        "colab": {}
      },
      "source": [
        "# Read a CTF formatted text (as mentioned above) using the CTF deserializer from a file\n",
        "def create_reader(path, is_training, input_dim, num_label_classes):\n",
        "    return C.io.MinibatchSource(C.io.CTFDeserializer(path, C.io.StreamDefs(\n",
        "        labels = C.io.StreamDef(field='labels', shape=num_label_classes, is_sparse=False),\n",
        "        features   = C.io.StreamDef(field='features', shape=input_dim, is_sparse=False)\n",
        "    )), randomize = is_training, max_sweeps = C.io.INFINITELY_REPEAT if is_training else 1)"
      ],
      "execution_count": 0,
      "outputs": []
    },
    {
      "cell_type": "code",
      "metadata": {
        "id": "LJZ8hS9SsJ_5",
        "colab_type": "code",
        "colab": {}
      },
      "source": [
        "# Ensure the training and test data is generated and available for this tutorial.\n",
        "# We search in two locations in the toolkit for the cached MNIST data set.\n",
        "train_file = '/content/drive/My Drive/MPP_DATA/Train-28x28_cntk_text.txt'\n",
        "test_file = '/content/drive/My Drive/MPP_DATA/Test-28x28_cntk_text.txt'"
      ],
      "execution_count": 0,
      "outputs": []
    },
    {
      "cell_type": "markdown",
      "metadata": {
        "id": "J_6YRGKesKAB",
        "colab_type": "text"
      },
      "source": [
        "<a id='#Model Creation'></a>\n",
        "## Model Creation\n",
        "\n",
        "Our multi-layer perceptron will be relatively simple with 2 hidden layers (`num_hidden_layers`). The number of nodes in the hidden layer being a parameter specified by `hidden_layers_dim`. The figure below illustrates the entire model we will use in this tutorial in the context of MNIST data.\n",
        "\n",
        "![model-mlp](http://cntk.ai/jup/cntk103c_MNIST_MLP.png)"
      ]
    },
    {
      "cell_type": "markdown",
      "metadata": {
        "id": "6fq4C2QTsKAC",
        "colab_type": "text"
      },
      "source": [
        "If you are not familiar with the terms *hidden_layer* and *number of hidden layers*, please review the module 3 course videos.\n",
        "\n",
        "Each Dense layer (as illustrated below) shows the input dimensions, output dimensions and activation function that layer uses. Specifically, the layer below shows: input dimension = 784 (1 dimension for each input pixel), output dimension = 400 (number of hidden nodes, a parameter specified by the user) and activation function being [relu](https://cntk.ai/pythondocs/cntk.ops.html?highlight=relu#cntk.ops.relu).\n",
        "\n",
        "![model-dense](http://www.cntk.ai/jup/cntk103c_MNIST_dense.png)\n",
        "\n",
        "In this model we have 2 dense layer called the hidden layers each with an activation function of `relu`.  These are followed by the dense output layer with no activation.  \n",
        "\n",
        "The output dimension (a.k.a. number of hidden nodes) in the 2 hidden layer is set to 400. The number of hidden layers is 2. \n",
        "\n",
        "The final output layer emits a vector of 10 values. Since we will be using softmax to normalize the output of the model we do not use an activation function in this layer. The softmax operation comes bundled with the [loss function](https://cntk.ai/pythondocs/cntk.losses.html) we will be using later in this tutorial."
      ]
    },
    {
      "cell_type": "code",
      "metadata": {
        "id": "Uo9SYHOusKAE",
        "colab_type": "code",
        "colab": {}
      },
      "source": [
        "num_hidden_layers = 2\n",
        "hidden_layers_dim = 400"
      ],
      "execution_count": 0,
      "outputs": []
    },
    {
      "cell_type": "markdown",
      "metadata": {
        "id": "Y-pjE7LtsKAJ",
        "colab_type": "text"
      },
      "source": [
        "Network input and output: \n",
        "- **input** variable (a key CNTK concept): \n",
        ">An **input** variable is a container in which we fill different observations in this case image pixels during model learning (a.k.a.training) and model evaluation (a.k.a. testing). Thus, the shape of the `input` must match the shape of the data that will be provided.  For example, when data are images each of  height 10 pixels  and width 5 pixels, the input feature dimension will be 50 (representing the total number of image pixels). More on data and their dimensions to appear in separate tutorials.\n",
        "\n",
        "\n",
        "**Knowledge Check** What is the input dimension of your chosen model? This is fundamental to our understanding of variables in a network or model representation in CNTK.\n"
      ]
    },
    {
      "cell_type": "code",
      "metadata": {
        "id": "S-KtzdXmsKAK",
        "colab_type": "code",
        "colab": {}
      },
      "source": [
        "input = C.input_variable(input_dim)\n",
        "label = C.input_variable(num_output_classes)"
      ],
      "execution_count": 0,
      "outputs": []
    },
    {
      "cell_type": "markdown",
      "metadata": {
        "id": "R87glwtJsKAN",
        "colab_type": "text"
      },
      "source": [
        "## Multi-layer Perceptron setup\n",
        "\n",
        "The code below is a direct translation of the model shown above."
      ]
    },
    {
      "cell_type": "code",
      "metadata": {
        "id": "eGXVZDXLsKAP",
        "colab_type": "code",
        "colab": {}
      },
      "source": [
        "def create_model(features):\n",
        "    with C.layers.default_options(init = C.layers.glorot_uniform(), activation = C.ops.relu):\n",
        "            h = features\n",
        "            for _ in range(num_hidden_layers):\n",
        "                h = C.layers.Dense(hidden_layers_dim)(h)\n",
        "            r = C.layers.Dense(num_output_classes, activation = None)(h)\n",
        "            return r\n",
        "        \n",
        "z = create_model(input)"
      ],
      "execution_count": 0,
      "outputs": []
    },
    {
      "cell_type": "markdown",
      "metadata": {
        "id": "Pvi2Odn_sKAS",
        "colab_type": "text"
      },
      "source": [
        "`z` will be used to represent the output of a network.\n",
        "\n",
        "We introduced sigmoid function in CNTK 102, in this tutorial you should try different activation functions in the hidden layer. You may choose to do this right away and take a peek into the performance later in the tutorial or run the preset tutorial and then choose to perform the suggested exploration.\n",
        "\n",
        "\n",
        "** Suggested Exploration **\n",
        "- Record the training error you get with `sigmoid` as the activation function\n",
        "- Now change to `relu` as the activation function and see if you can improve your training error\n",
        "\n",
        "**Knowledge Check**: Name some of the different supported activation functions.  Which activation function gives the least training error?"
      ]
    },
    {
      "cell_type": "code",
      "metadata": {
        "id": "ZCkLM4NisKAT",
        "colab_type": "code",
        "colab": {}
      },
      "source": [
        "# Scale the input to 0-1 range by dividing each pixel by 255.\n",
        "z = create_model(input/255.0)"
      ],
      "execution_count": 0,
      "outputs": []
    },
    {
      "cell_type": "markdown",
      "metadata": {
        "id": "SyK2ezQ_sKAV",
        "colab_type": "text"
      },
      "source": [
        "## Training\n",
        "â\n",
        "Below, we define the **Loss** function, which is used to guide weight changes during training.  \n",
        "â\n",
        "As explained in the lectures, we use the `softmax` function to map the accumulated evidences or activations to a probability distribution over the classes (Details of the [softmax function][] and other [activation][] functions).\n",
        "â\n",
        "[softmax function]: http://cntk.ai/pythondocs/cntk.ops.html#cntk.ops.softmax\n",
        "[activation]: https://github.com/Microsoft/CNTK/wiki/Activation-Functions\n",
        "We minimize the cross-entropy between the label and predicted probability by the network.\n"
      ]
    },
    {
      "cell_type": "code",
      "metadata": {
        "id": "q9RRqT3WsKAX",
        "colab_type": "code",
        "colab": {}
      },
      "source": [
        "loss = C.cross_entropy_with_softmax(z, label)"
      ],
      "execution_count": 0,
      "outputs": []
    },
    {
      "cell_type": "markdown",
      "metadata": {
        "id": "Z-5qNGFDsKAa",
        "colab_type": "text"
      },
      "source": [
        "#### Evaluation\n",
        "\n",
        "Below, we define the **Evaluation** (or metric) function that is used to report a measurement of how well our model is performing.\n",
        "\n",
        "For this problem, we choose the **classification_error()** function as our metric, which returns the average error over the associated samples (treating a match as \"1\", where the model's prediction matches the \"ground truth\" label, and a non-match as \"0\")."
      ]
    },
    {
      "cell_type": "code",
      "metadata": {
        "id": "bd1g4ZuBsKAb",
        "colab_type": "code",
        "colab": {}
      },
      "source": [
        "label_error = C.classification_error(z, label)"
      ],
      "execution_count": 0,
      "outputs": []
    },
    {
      "cell_type": "markdown",
      "metadata": {
        "id": "poXlpGRFsKAe",
        "colab_type": "text"
      },
      "source": [
        "### Configure training\n",
        "\n",
        "The trainer strives to reduce the `loss` function by different optimization approaches, [Stochastic Gradient Descent][] (`sgd`) being a basic one. Typically, one would start with random initialization of the model parameters. The `sgd` optimizer would calculate the `loss` or error between the predicted label against the corresponding ground-truth label and using [gradient-decent][] generate a new set model parameters in a single iteration. \n",
        "\n",
        "The aforementioned model parameter update using a single observation at a time is attractive since it does not require the entire data set (all observation) to be loaded in memory and also requires gradient computation over fewer datapoints, thus allowing for training on large data sets. However, the updates generated using a single observation sample at a time can vary wildly between iterations. An intermediate ground is to load a small set of observations and use an average of the `loss` or error from that set to update the model parameters. This subset is called a *minibatch*.\n",
        "\n",
        "With minibatches we often sample observation from the larger training dataset. We repeat the process of model parameters update using different combination of training samples and over a period of time minimize the `loss` (and the error). When the incremental error rates are no longer changing significantly or after a preset number of maximum minibatches to train, we claim that our model is trained.\n",
        "\n",
        "One of the key parameter for optimization is called the `learning_rate`. For now, we can think of it as a scaling factor that modulates how much we change the parameters in any iteration. We will be covering more details in later tutorial. \n",
        "With this information, we are ready to create our trainer. \n",
        "\n",
        "[optimization]: https://en.wikipedia.org/wiki/Category:Convex_optimization\n",
        "[Stochastic Gradient Descent]: https://en.wikipedia.org/wiki/Stochastic_gradient_descent\n",
        "[gradient-decent]: http://www.statisticsviews.com/details/feature/5722691/Getting-to-the-Bottom-of-Regression-with-Gradient-Descent.html"
      ]
    },
    {
      "cell_type": "code",
      "metadata": {
        "id": "R_uOPDCqsKAf",
        "colab_type": "code",
        "colab": {}
      },
      "source": [
        "# Instantiate the trainer object to drive the model training\n",
        "learning_rate = 0.2\n",
        "lr_schedule = C.learning_rate_schedule(learning_rate, C.UnitType.minibatch)\n",
        "learner = C.sgd(z.parameters, lr_schedule)\n",
        "trainer = C.Trainer(z, (loss, label_error), [learner])"
      ],
      "execution_count": 0,
      "outputs": []
    },
    {
      "cell_type": "markdown",
      "metadata": {
        "id": "Hs7aGPcssKAi",
        "colab_type": "text"
      },
      "source": [
        "First let us create some helper functions that will be needed to visualize different functions associated with training."
      ]
    },
    {
      "cell_type": "code",
      "metadata": {
        "id": "H0WBygmzsKAj",
        "colab_type": "code",
        "colab": {}
      },
      "source": [
        "# Define a utility function to compute the moving average sum.\n",
        "# A more efficient implementation is possible with np.cumsum() function\n",
        "def moving_average(a, w=5):\n",
        "    if len(a) < w:\n",
        "        return a[:]    # Need to send a copy of the array\n",
        "    return [val if idx < w else sum(a[(idx-w):idx])/w for idx, val in enumerate(a)]\n",
        "\n",
        "\n",
        "# Defines a utility that prints the training progress\n",
        "def print_training_progress(trainer, mb, frequency, verbose=1):\n",
        "    training_loss = \"NA\"\n",
        "    eval_error = \"NA\"\n",
        "\n",
        "    if mb%frequency == 0:\n",
        "        training_loss = trainer.previous_minibatch_loss_average\n",
        "        eval_error = trainer.previous_minibatch_evaluation_average\n",
        "        if verbose: \n",
        "            print (\"Minibatch: {0}, Loss: {1:.4f}, Error: {2:.2f}%\".format(mb, training_loss, eval_error*100))\n",
        "        \n",
        "    return mb, training_loss, eval_error"
      ],
      "execution_count": 0,
      "outputs": []
    },
    {
      "cell_type": "markdown",
      "metadata": {
        "id": "GFgSWgyrsKAo",
        "colab_type": "text"
      },
      "source": [
        "<a id='#Run the trainer'></a>\n",
        "### Run the trainer\n",
        "\n",
        "We are now ready to train our fully connected neural net. We want to decide what data we need to feed into the training engine.\n",
        "\n",
        "In this example, each iteration of the optimizer will work on `minibatch_size` sized samples. We would like to train on all 60000 observations. Additionally we will make multiple passes through the data specified by the variable `num_sweeps_to_train_with`. With these parameters we can proceed with training our simple multi-layer perceptron network."
      ]
    },
    {
      "cell_type": "code",
      "metadata": {
        "id": "Sjd-H4_XsKAq",
        "colab_type": "code",
        "colab": {}
      },
      "source": [
        "# Initialize the parameters for the trainer\n",
        "minibatch_size = 64\n",
        "num_samples_per_sweep = 60000\n",
        "num_sweeps_to_train_with = 10\n",
        "num_minibatches_to_train = (num_samples_per_sweep * num_sweeps_to_train_with) / minibatch_size"
      ],
      "execution_count": 0,
      "outputs": []
    },
    {
      "cell_type": "code",
      "metadata": {
        "id": "srNyd6B0sKAv",
        "colab_type": "code",
        "colab": {
          "base_uri": "https://localhost:8080/",
          "height": 340
        },
        "outputId": "eb4b672d-6768-4e40-bd66-010dbb410c52"
      },
      "source": [
        "# Create the reader to training data set\n",
        "reader_train = create_reader(train_file, True, input_dim, num_output_classes)\n",
        "\n",
        "# Map the data streams to the input and labels.\n",
        "input_map = {\n",
        "    label  : reader_train.streams.labels,\n",
        "    input  : reader_train.streams.features\n",
        "} \n",
        "\n",
        "# Run the trainer on and perform model training\n",
        "training_progress_output_freq = 500\n",
        "\n",
        "plotdata = {\"batchsize\":[], \"loss\":[], \"error\":[]}\n",
        "\n",
        "for i in range(0, int(num_minibatches_to_train)):\n",
        "    \n",
        "    # Read a mini batch from the training data file\n",
        "    data = reader_train.next_minibatch(minibatch_size, input_map = input_map)\n",
        "    \n",
        "    trainer.train_minibatch(data)\n",
        "    batchsize, loss, error = print_training_progress(trainer, i, training_progress_output_freq, verbose=1)\n",
        "    \n",
        "    if not (loss == \"NA\" or error ==\"NA\"):\n",
        "        plotdata[\"batchsize\"].append(batchsize)\n",
        "        plotdata[\"loss\"].append(loss)\n",
        "        plotdata[\"error\"].append(error)"
      ],
      "execution_count": 19,
      "outputs": [
        {
          "output_type": "stream",
          "text": [
            "Minibatch: 0, Loss: 2.3311, Error: 95.31%\n",
            "Minibatch: 500, Loss: 0.1585, Error: 6.25%\n",
            "Minibatch: 1000, Loss: 0.0800, Error: 1.56%\n",
            "Minibatch: 1500, Loss: 0.0650, Error: 3.12%\n",
            "Minibatch: 2000, Loss: 0.0183, Error: 0.00%\n",
            "Minibatch: 2500, Loss: 0.0128, Error: 0.00%\n",
            "Minibatch: 3000, Loss: 0.0350, Error: 1.56%\n",
            "Minibatch: 3500, Loss: 0.0755, Error: 4.69%\n",
            "Minibatch: 4000, Loss: 0.0041, Error: 0.00%\n",
            "Minibatch: 4500, Loss: 0.0678, Error: 3.12%\n",
            "Minibatch: 5000, Loss: 0.0117, Error: 0.00%\n",
            "Minibatch: 5500, Loss: 0.0339, Error: 3.12%\n",
            "Minibatch: 6000, Loss: 0.0066, Error: 0.00%\n",
            "Minibatch: 6500, Loss: 0.0048, Error: 0.00%\n",
            "Minibatch: 7000, Loss: 0.0392, Error: 1.56%\n",
            "Minibatch: 7500, Loss: 0.0105, Error: 0.00%\n",
            "Minibatch: 8000, Loss: 0.0013, Error: 0.00%\n",
            "Minibatch: 8500, Loss: 0.0042, Error: 0.00%\n",
            "Minibatch: 9000, Loss: 0.0023, Error: 0.00%\n"
          ],
          "name": "stdout"
        }
      ]
    },
    {
      "cell_type": "markdown",
      "metadata": {
        "id": "nX2n8ZAPsKAy",
        "colab_type": "text"
      },
      "source": [
        "Let us plot the errors over the different training minibatches. Note that as we iterate the training loss decreases though we do see some intermediate bumps. "
      ]
    },
    {
      "cell_type": "code",
      "metadata": {
        "id": "zUYW74XpsKAy",
        "colab_type": "code",
        "colab": {
          "base_uri": "https://localhost:8080/",
          "height": 337
        },
        "outputId": "6afb6e4c-51b4-4232-9a1e-06efa4324bc3"
      },
      "source": [
        "# Compute the moving average loss to smooth out the noise in SGD\n",
        "plotdata[\"avgloss\"] = moving_average(plotdata[\"loss\"])\n",
        "plotdata[\"avgerror\"] = moving_average(plotdata[\"error\"])\n",
        "\n",
        "# Plot the training loss and the training error\n",
        "import matplotlib.pyplot as plt\n",
        "\n",
        "plt.figure(1)\n",
        "plt.subplot(211)\n",
        "plt.plot(plotdata[\"batchsize\"], plotdata[\"avgloss\"], 'b--')\n",
        "plt.xlabel('Minibatch number')\n",
        "plt.ylabel('Loss')\n",
        "plt.title('Minibatch run vs. Training loss')\n",
        "\n",
        "plt.show()\n",
        "\n",
        "plt.subplot(212)\n",
        "plt.plot(plotdata[\"batchsize\"], plotdata[\"avgerror\"], 'r--')\n",
        "plt.xlabel('Minibatch number')\n",
        "plt.ylabel('Label Prediction Error')\n",
        "plt.title('Minibatch run vs. Label Prediction Error')\n",
        "plt.show()"
      ],
      "execution_count": 20,
      "outputs": [
        {
          "output_type": "display_data",
          "data": {
            "image/png": "[encoded data removed]",
            "text/plain": [
              "<Figure size 432x288 with 1 Axes>"
            ]
          },
          "metadata": {
            "tags": []
          }
        },
        {
          "output_type": "display_data",
          "data": {
            "image/png": "[encoded data removed]",
            "text/plain": [
              "<Figure size 432x288 with 1 Axes>"
            ]
          },
          "metadata": {
            "tags": []
          }
        }
      ]
    },
    {
      "cell_type": "markdown",
      "metadata": {
        "id": "33D10e5NsKA1",
        "colab_type": "text"
      },
      "source": [
        "## Evaluation / Testing \n",
        "\n",
        "Now that we have trained the network, let us evaluate the trained network on the test data. This is done using `trainer.test_minibatch`."
      ]
    },
    {
      "cell_type": "code",
      "metadata": {
        "id": "qSCHl2QhsKA2",
        "colab_type": "code",
        "colab": {
          "base_uri": "https://localhost:8080/",
          "height": 34
        },
        "outputId": "aac26f89-b15c-4844-ea20-cb3241af2f6d"
      },
      "source": [
        "# Read the training data\n",
        "reader_test = create_reader(test_file, False, input_dim, num_output_classes)\n",
        "\n",
        "test_input_map = {\n",
        "    label  : reader_test.streams.labels,\n",
        "    input  : reader_test.streams.features,\n",
        "}\n",
        "\n",
        "# Test data for trained model\n",
        "test_minibatch_size = 512\n",
        "num_samples = 10000\n",
        "num_minibatches_to_test = num_samples // test_minibatch_size\n",
        "test_result = 0.0\n",
        "\n",
        "for i in range(num_minibatches_to_test):\n",
        "    \n",
        "    # We are loading test data in batches specified by test_minibatch_size\n",
        "    # Each data point in the minibatch is a MNIST digit image of 784 dimensions \n",
        "    # with one pixel per dimension that we will encode / decode with the \n",
        "    # trained model.\n",
        "    data = reader_test.next_minibatch(test_minibatch_size,\n",
        "                                      input_map = test_input_map)\n",
        "\n",
        "    eval_error = trainer.test_minibatch(data)\n",
        "    test_result = test_result + eval_error\n",
        "\n",
        "# Average of evaluation errors of all test minibatches\n",
        "print(\"Average test error: {0:.2f}%\".format(test_result*100 / num_minibatches_to_test))"
      ],
      "execution_count": 21,
      "outputs": [
        {
          "output_type": "stream",
          "text": [
            "Average test error: 1.78%\n"
          ],
          "name": "stdout"
        }
      ]
    },
    {
      "cell_type": "markdown",
      "metadata": {
        "id": "s5LVqBPMsKA5",
        "colab_type": "text"
      },
      "source": [
        "Note, this error is very comparable to our training error indicating that our model has good \"out of sample\" error a.k.a. generalization error. This implies that our model can very effectively deal with previously unseen observations (during the training process). This is key to avoid the phenomenon of overfitting.\n",
        "\n",
        "This is a **huge** reduction in error compared to multi-class LR (from Lab 02)."
      ]
    },
    {
      "cell_type": "markdown",
      "metadata": {
        "id": "_ECok7XisKA5",
        "colab_type": "text"
      },
      "source": [
        "We have so far been dealing with aggregate measures of error. Let us now get the probabilities associated with individual data points. For each observation, the `eval` function returns the probability distribution across all the classes. The classifier is trained to recognize digits, hence has 10 classes. First let us route the network output through a `softmax` function. This maps the aggregated activations across the network to probabilities across the 10 classes."
      ]
    },
    {
      "cell_type": "code",
      "metadata": {
        "id": "HZxQT_kxsKA6",
        "colab_type": "code",
        "colab": {}
      },
      "source": [
        "out = C.softmax(z)"
      ],
      "execution_count": 0,
      "outputs": []
    },
    {
      "cell_type": "markdown",
      "metadata": {
        "id": "E-3gcfY4sKA-",
        "colab_type": "text"
      },
      "source": [
        "Let us test a small minibatch sample from the test data."
      ]
    },
    {
      "cell_type": "code",
      "metadata": {
        "id": "VDG4ov-TsKBA",
        "colab_type": "code",
        "colab": {}
      },
      "source": [
        "# Read the data for evaluation\n",
        "reader_eval = create_reader(test_file, False, input_dim, num_output_classes)\n",
        "\n",
        "eval_minibatch_size = 25\n",
        "eval_input_map = {input: reader_eval.streams.features} \n",
        "\n",
        "data = reader_test.next_minibatch(eval_minibatch_size, input_map = test_input_map)\n",
        "\n",
        "img_label = data[label].asarray()\n",
        "img_data = data[input].asarray()\n",
        "predicted_label_prob = [out.eval(img_data[i]) for i in range(len(img_data))]"
      ],
      "execution_count": 0,
      "outputs": []
    },
    {
      "cell_type": "code",
      "metadata": {
        "id": "rPt3SMJlsKBE",
        "colab_type": "code",
        "colab": {}
      },
      "source": [
        "# Find the index with the maximum value for both predicted as well as the ground truth\n",
        "pred = [np.argmax(predicted_label_prob[i]) for i in range(len(predicted_label_prob))]\n",
        "gtlabel = [np.argmax(img_label[i]) for i in range(len(img_label))]"
      ],
      "execution_count": 0,
      "outputs": []
    },
    {
      "cell_type": "code",
      "metadata": {
        "id": "23g4LywLsKBI",
        "colab_type": "code",
        "colab": {
          "base_uri": "https://localhost:8080/",
          "height": 51
        },
        "outputId": "e99e31ac-ee46-4d97-9276-06e8fd6c7a9d"
      },
      "source": [
        "print(\"Label    :\", gtlabel[:25])\n",
        "print(\"Predicted:\", pred)"
      ],
      "execution_count": 25,
      "outputs": [
        {
          "output_type": "stream",
          "text": [
            "Label    : [4, 5, 6, 7, 8, 9, 7, 4, 6, 1, 4, 0, 9, 9, 3, 7, 8, 4, 7, 5, 8, 5, 3, 2, 2]\n",
            "Predicted: [4, 6, 6, 7, 8, 9, 7, 4, 6, 1, 4, 0, 9, 9, 3, 7, 8, 0, 7, 5, 8, 5, 3, 2, 2]\n"
          ],
          "name": "stdout"
        }
      ]
    },
    {
      "cell_type": "markdown",
      "metadata": {
        "id": "yyguRtOxsKBN",
        "colab_type": "text"
      },
      "source": [
        "As you can see above, our model is much better.  Do you see any mismatches?  \n",
        "\n",
        "Let us visualize one of the test images and its associated label.  Do they match?"
      ]
    },
    {
      "cell_type": "code",
      "metadata": {
        "id": "JTcdZSdtsKBP",
        "colab_type": "code",
        "colab": {
          "base_uri": "https://localhost:8080/",
          "height": 265
        },
        "outputId": "b016b2cc-94c3-4b0d-f809-44c70acec3eb"
      },
      "source": [
        "# Plot a random image\n",
        "sample_number = 5\n",
        "plt.imshow(img_data[sample_number].reshape(28,28), cmap=\"gray_r\")\n",
        "plt.axis('off')\n",
        "\n",
        "img_gt, img_pred = gtlabel[sample_number], pred[sample_number]\n",
        "print(\"Image Label: \", img_pred)"
      ],
      "execution_count": 26,
      "outputs": [
        {
          "output_type": "stream",
          "text": [
            "Image Label:  9\n"
          ],
          "name": "stdout"
        },
        {
          "output_type": "display_data",
          "data": {
            "image/png": "[encoded data removed]",
            "text/plain": [
              "<Figure size 432x288 with 1 Axes>"
            ]
          },
          "metadata": {
            "tags": []
          }
        }
      ]
    },
    {
      "cell_type": "markdown",
      "metadata": {
        "collapsed": true,
        "id": "gF6ix4EEsKBU",
        "colab_type": "text"
      },
      "source": [
        "**Suggested Explorations**\n",
        "-  Try exploring how the classifier behaves with different parameters - suggest changing the `minibatch_size` parameter from 25 to say 64 or 128. What happens to the error rate? How does the error compare to the logistic regression classifier?\n",
        "- Try increasing the number of sweeps\n",
        "- Can you change the network to reduce the training error rate? When do you see *overfitting* happening?"
      ]
    },
    {
      "cell_type": "code",
      "metadata": {
        "id": "PqYjESJ-sKBV",
        "colab_type": "code",
        "colab": {}
      },
      "source": [
        ""
      ],
      "execution_count": 0,
      "outputs": []
    }
  ]
}